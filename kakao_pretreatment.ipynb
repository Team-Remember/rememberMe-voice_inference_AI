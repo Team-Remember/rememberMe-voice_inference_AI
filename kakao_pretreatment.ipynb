{
 "cells": [
  {
   "cell_type": "code",
   "execution_count": null,
   "id": "dc6de997",
   "metadata": {
    "pycharm": {
     "name": "#%%\n"
    }
   },
   "outputs": [],
   "source": [
    "# https://wikidocs.net/162786"
   ]
  },
  {
   "cell_type": "code",
   "execution_count": 1,
   "id": "3bf8c763",
   "metadata": {
    "pycharm": {
     "name": "#%%\n"
    }
   },
   "outputs": [],
   "source": [
    "import re\n",
    "import pandas as pd\n",
    "\n",
    "# 카카오톡 데이터 전처리\n",
    "def katalk_msg_parse(file_path):\n",
    "    my_katalk_data = list()\n",
    "    katalk_msg_pattern = \"[0-9]{4}[년.] [0-9]{1,2}[월.] [0-9]{1,2}[일.] 오\\S [0-9]{1,2}:[0-9]{1,2},.*:\"\n",
    "    date_info = \"[0-9]{4}년 [0-9]{1,2}월 [0-9]{1,2}일 \\S요일\"\n",
    "    in_out_info = \"[0-9]{4}[년.] [0-9]{1,2}[월.] [0-9]{1,2}[일.] 오\\S [0-9]{1,2}:[0-9]{1,2}:.*\"\n",
    "\n",
    "    for line in open(file_path, encoding=\"UTF-8\"):\n",
    "        if re.match(date_info, line) or re.match(in_out_info, line):\n",
    "            continue\n",
    "        elif line == '\\n':\n",
    "            continue\n",
    "        elif re.match(katalk_msg_pattern, line):\n",
    "            line = line.split(\",\")\n",
    "#             date_time = line[0]\n",
    "            user_text = line[1].split(\" : \", maxsplit=1)\n",
    "            user_name = user_text[0].strip()\n",
    "            text = user_text[1].strip()\n",
    "            my_katalk_data.append({\n",
    "                                   'user_name': user_name,\n",
    "                                   'text': text\n",
    "                                   })\n",
    "\n",
    "        else:\n",
    "            if len(my_katalk_data) > 0:\n",
    "                my_katalk_data[-1]['text'] += \"\\n\"+line.strip()\n",
    "\n",
    "    my_katalk_df = pd.DataFrame(my_katalk_data)\n",
    "\n",
    "    return my_katalk_df"
   ]
  },
  {
   "cell_type": "code",
   "execution_count": 2,
   "id": "00addb72",
   "metadata": {
    "pycharm": {
     "name": "#%%\n"
    }
   },
   "outputs": [
    {
     "data": {
      "text/plain": [
       "['Talk_1.txt', 'Talk_2.txt', 'Talk_3.txt']"
      ]
     },
     "execution_count": 2,
     "metadata": {},
     "output_type": "execute_result"
    }
   ],
   "source": [
    "# 파일 리스트\n",
    "import os\n",
    "\n",
    "path = 'C:\\\\Users\\\\HP\\\\Desktop\\\\final\\\\REMEMBER\\\\remember\\\\data\\\\'\n",
    "file_list = os.listdir(path)\n",
    "file_list"
   ]
  },
  {
   "cell_type": "code",
   "execution_count": 3,
   "id": "dfe72610",
   "metadata": {
    "pycharm": {
     "name": "#%%\n"
    }
   },
   "outputs": [
    {
     "data": {
      "text/html": [
       "<div>\n",
       "<style scoped>\n",
       "    .dataframe tbody tr th:only-of-type {\n",
       "        vertical-align: middle;\n",
       "    }\n",
       "\n",
       "    .dataframe tbody tr th {\n",
       "        vertical-align: top;\n",
       "    }\n",
       "\n",
       "    .dataframe thead th {\n",
       "        text-align: right;\n",
       "    }\n",
       "</style>\n",
       "<table border=\"1\" class=\"dataframe\">\n",
       "  <thead>\n",
       "    <tr style=\"text-align: right;\">\n",
       "      <th></th>\n",
       "      <th>user_name</th>\n",
       "      <th>text</th>\n",
       "    </tr>\n",
       "  </thead>\n",
       "  <tbody>\n",
       "    <tr>\n",
       "      <th>0</th>\n",
       "      <td>이남경</td>\n",
       "      <td>01063697750</td>\n",
       "    </tr>\n",
       "    <tr>\n",
       "      <th>1</th>\n",
       "      <td>이남경</td>\n",
       "      <td>너가 일빠</td>\n",
       "    </tr>\n",
       "    <tr>\n",
       "      <th>2</th>\n",
       "      <td>권잡스</td>\n",
       "      <td>ㅋㅋㅋㅋㅋㅋ</td>\n",
       "    </tr>\n",
       "    <tr>\n",
       "      <th>3</th>\n",
       "      <td>권잡스</td>\n",
       "      <td>이모티콘</td>\n",
       "    </tr>\n",
       "    <tr>\n",
       "      <th>4</th>\n",
       "      <td>권잡스</td>\n",
       "      <td>사진</td>\n",
       "    </tr>\n",
       "    <tr>\n",
       "      <th>...</th>\n",
       "      <td>...</td>\n",
       "      <td>...</td>\n",
       "    </tr>\n",
       "    <tr>\n",
       "      <th>37145</th>\n",
       "      <td>권잡스</td>\n",
       "      <td>500원을 보냈어요. 송금 받기 전까지 내역 상세화면에서 취소할 수 있어요.</td>\n",
       "    </tr>\n",
       "    <tr>\n",
       "      <th>37146</th>\n",
       "      <td>권잡스</td>\n",
       "      <td>뭔가 성빈이랑 나영이랑 얘기가 있었던거 같은데</td>\n",
       "    </tr>\n",
       "    <tr>\n",
       "      <th>37147</th>\n",
       "      <td>권잡스</td>\n",
       "      <td>우리한테 얘기한건데</td>\n",
       "    </tr>\n",
       "    <tr>\n",
       "      <th>37148</th>\n",
       "      <td>권잡스</td>\n",
       "      <td>넘 크게 말했나 해서</td>\n",
       "    </tr>\n",
       "    <tr>\n",
       "      <th>37149</th>\n",
       "      <td>이남경</td>\n",
       "      <td>에잇!</td>\n",
       "    </tr>\n",
       "  </tbody>\n",
       "</table>\n",
       "<p>37150 rows × 2 columns</p>\n",
       "</div>"
      ],
      "text/plain": [
       "      user_name                                        text\n",
       "0           이남경                                 01063697750\n",
       "1           이남경                                       너가 일빠\n",
       "2           권잡스                                      ㅋㅋㅋㅋㅋㅋ\n",
       "3           권잡스                                        이모티콘\n",
       "4           권잡스                                          사진\n",
       "...         ...                                         ...\n",
       "37145       권잡스  500원을 보냈어요. 송금 받기 전까지 내역 상세화면에서 취소할 수 있어요.\n",
       "37146       권잡스                   뭔가 성빈이랑 나영이랑 얘기가 있었던거 같은데\n",
       "37147       권잡스                                  우리한테 얘기한건데\n",
       "37148       권잡스                                 넘 크게 말했나 해서\n",
       "37149       이남경                                         에잇!\n",
       "\n",
       "[37150 rows x 2 columns]"
      ]
     },
     "execution_count": 3,
     "metadata": {},
     "output_type": "execute_result"
    }
   ],
   "source": [
    "chat_room_list = list()\n",
    "for f_name in file_list:\n",
    "    chat_room = katalk_msg_parse(os.path.join(path, f_name))\n",
    "    chat_room_list.append(chat_room)\n",
    "\n",
    "df = pd.concat(chat_room_list, ignore_index=True)\n",
    "df"
   ]
  },
  {
   "cell_type": "code",
   "execution_count": 4,
   "id": "00b1f6bd",
   "metadata": {
    "pycharm": {
     "name": "#%%\n"
    }
   },
   "outputs": [],
   "source": [
    "df.to_excel('C:\\\\Users\\\\HP\\\\Desktop\\\\final\\\\REMEMBER\\\\remember\\\\data\\\\kakaolist.xlsx', sheet_name='new_name')"
   ]
  },
  {
   "cell_type": "code",
   "execution_count": null,
   "id": "26a679ec",
   "metadata": {
    "pycharm": {
     "name": "#%%\n"
    }
   },
   "outputs": [],
   "source": []
  }
 ],
 "metadata": {
  "kernelspec": {
   "display_name": "Python 3 (ipykernel)",
   "language": "python",
   "name": "python3"
  },
  "language_info": {
   "codemirror_mode": {
    "name": "ipython",
    "version": 3
   },
   "file_extension": ".py",
   "mimetype": "text/x-python",
   "name": "python",
   "nbconvert_exporter": "python",
   "pygments_lexer": "ipython3",
   "version": "3.9.12"
  }
 },
 "nbformat": 4,
 "nbformat_minor": 5
}