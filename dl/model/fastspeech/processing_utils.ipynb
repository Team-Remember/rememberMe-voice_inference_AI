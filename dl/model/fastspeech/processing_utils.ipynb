{
  "nbformat": 4,
  "nbformat_minor": 0,
  "metadata": {
    "colab": {
      "name": "processing_utils.ipynb",
      "provenance": [],
      "collapsed_sections": [],
      "mount_file_id": "1qmS4GHQE5SBZAoXRXdeampVer0DZUldU",
      "authorship_tag": "ABX9TyO4eKZ0iBMxCzKtzQY73cvL",
      "include_colab_link": true
    },
    "kernelspec": {
      "name": "python3",
      "display_name": "Python 3"
    },
    "language_info": {
      "name": "python"
    }
  },
  "cells": [
    {
      "cell_type": "markdown",
      "metadata": {
        "id": "view-in-github",
        "colab_type": "text"
      },
      "source": [
        "<a href=\"https://colab.research.google.com/github/JH-lee95/Fastspeech2-Korean/blob/master/processing_utils.ipynb\" target=\"_parent\"><img src=\"https://colab.research.google.com/assets/colab-badge.svg\" alt=\"Open In Colab\"/></a>"
      ]
    },
    {
      "cell_type": "code",
      "metadata": {
        "id": "Ss7ACs_FNQQK"
      },
      "source": [
        "import os \n",
        "import sys"
      ],
      "execution_count": null,
      "outputs": []
    },
    {
      "cell_type": "code",
      "metadata": {
        "id": "gyCqGDoCDGna"
      },
      "source": [
        "!pip install jamo\n",
        "!pip install konlpy\n",
        "!pip install g2pk\n",
        "!pip install jamotools\n",
        "\n",
        "from jamo import h2j,hangul_to_jamo,j2hcj\n",
        "from g2pk import G2p\n",
        "import jamotools"
      ],
      "execution_count": null,
      "outputs": []
    },
    {
      "cell_type": "code",
      "metadata": {
        "id": "-_2T59RJSI-U"
      },
      "source": [
        "# 한글 문장을 초/중/종성 형태로 분리, 단독 사용 안함\n",
        "g2p=G2p() #grapheme to phoneme\n",
        "\n",
        "def jamo_split(content):\n",
        "\n",
        "  content=g2p(content)\n",
        "  jamo=h2j(content).split(\" \")\n",
        "  \n",
        "  return jamo\n"
      ],
      "execution_count": null,
      "outputs": []
    },
    {
      "cell_type": "code",
      "metadata": {
        "id": "zvYzUa8ZWzNa"
      },
      "source": [
        "# word_to_phoneme 딕셔너리 , lexiocn 파일을 만드는 함수 \n",
        "import tqdm\n",
        "\n",
        "def make_p_dict(meta_path,position):\n",
        "\n",
        "  p_dict={}\n",
        "\n",
        "  with open(meta_path,\"r\") as f:\n",
        "    for line in tqdm.tqdm(f.readlines()):\n",
        "      line=line.rstrip()\n",
        "      content=line.split(\"|\")[position] #meta data 내의 텍스트가 기록된 위치\n",
        "      word_list=content.split(\" \")\n",
        "\n",
        "      for idx,word in enumerate(word_list):\n",
        "        print(word)\n",
        "        if not word in p_dict.keys():\n",
        "          p_dict[word]=\" \".join(jamo_split(word)[0])\n",
        "\n",
        "\n",
        "  # with open(\"phoneme_lexicon.txt\",\"w\") as p:\n",
        "  #   for k,v in p_dict.items():\n",
        "  #     p.write(\"{}\\t{}\\n\".format(k,v))\n",
        "\n",
        "  return p_dict\n",
        "    \n",
        "\n",
        "    "
      ],
      "execution_count": null,
      "outputs": []
    },
    {
      "cell_type": "code",
      "metadata": {
        "id": "kTxWYXoGrP2E"
      },
      "source": [
        "p_dict=make_p_dict(\"/content/drive/MyDrive/korean-fastspeech2/korean_male/male/metadata.txt\",1)"
      ],
      "execution_count": null,
      "outputs": []
    },
    {
      "cell_type": "code",
      "metadata": {
        "id": "uaKYrwn17kQr"
      },
      "source": [
        "p_dict"
      ],
      "execution_count": null,
      "outputs": []
    },
    {
      "cell_type": "code",
      "metadata": {
        "id": "Vs0erQz9Tcck"
      },
      "source": [
        "def make_lexicon(p_dict):\n",
        "  with open(\"p_lexicon.txt\",\"w\") as f:\n",
        "    for k,v in p_dict.items():\n",
        "      f.write(\"{}\\t{}\\n\".format(k,v))"
      ],
      "execution_count": null,
      "outputs": []
    },
    {
      "cell_type": "code",
      "metadata": {
        "id": "4sCC1c30Zfa-"
      },
      "source": [
        "make_lexicon(p_dict)"
      ],
      "execution_count": null,
      "outputs": []
    },
    {
      "cell_type": "code",
      "metadata": {
        "id": "Bx7HFP9PmSjB"
      },
      "source": [
        "#kss data, audio-text pair 생성 (texts are extracted from transcript.v.1.4.txt in this example)\n",
        "#wav파일이 있는 곳에 같은 이름의 lab파일을 생성한다. (lab파일은 각 오디오의 발화문장을 담고 있다.)\n",
        "\n",
        "\"\"\" \n",
        "메타데이터의 형식은 다음과 같은 형태\n",
        "\n",
        "'폴더명/파일이름|문장'\n",
        "\n",
        "예시)\n",
        "--------------------------------------------------------------------------------------------------------------------------------------------------------------------------------\n",
        "1/1_0000.wav|그는 괜찮은 척하려고 애쓰는 것 같았다.\n",
        "--------------------------------------------------------------------------------------------------------------------------------------------------------------------------------\n",
        "\"\"\"\n",
        "\n",
        "meta_name=\"transcript.v.1.4.txt\"\n",
        "base=\"/content/drive/MyDrive/Colab Notebooks/\"\n",
        "\n",
        "\n",
        "def audio_text_pair(data_dir,metadata_name):\n",
        "\n",
        "  with open(meta_path,\"r\") as m:\n",
        "    for line in m:\n",
        "      wav_path=line.split(\"|\")[0] #wav 파일의 위치\n",
        "      content=line.split(\"|\")[2] #문장\n",
        "\n",
        "      text_path=wav_path.replace(\"wav\",\"lab\")\n",
        "\n",
        "      with open(os.path.join(base,text_path),\"w\") as t:\n",
        "        t.write(content)"
      ],
      "execution_count": null,
      "outputs": []
    },
    {
      "cell_type": "code",
      "metadata": {
        "id": "MoWC5F3FtgB5"
      },
      "source": [
        "#메타데이터 만들기, wav_path : wav파일의 위치, txt_path : transcript파일의 위치, file_name : 저장하고자 하는 메타데이터의 파일명(str)\n",
        "# wav-transcript는 1대1 대응하여야 함\n",
        "\n",
        "def make_metadata(wav_path,txt_path,file_name):\n",
        "\n",
        "  meta_txt=open(file_name,\"w\")\n",
        "\n",
        "  for txt in os.listdir(txt_path):\n",
        "    with open(os.path.join(txt_path,txt),\"r\",encoding=\"utf-8-sig\") as f:\n",
        "\n",
        "\n",
        "      content=f.readline()\n",
        "      file_name=txt.replace(\"txt\",\"wav\")\n",
        "\n",
        "      meta_txt.write(\"wav\" + \"/\" + file_name + \"|\" + content)\n",
        "        \n",
        "  meta_txt.close()"
      ],
      "execution_count": null,
      "outputs": []
    },
    {
      "cell_type": "code",
      "metadata": {
        "id": "NkJulcd9ABtM"
      },
      "source": [
        "# 파일 확장자 변경\n",
        "\n",
        "\n",
        "from glob import glob\n",
        "#base : root_dir, before : target extension, after : expected extension , (optional)sub_dirs : list of sub_dir \n",
        "def rename_extension(base,before,after,sub_dirs=None):\n",
        "\n",
        "  before_ext=\"*.{}\".format(before)\n",
        "  after_ext=\"*.{}\".format(after)\n",
        "\n",
        "  if sub_dirs:\n",
        "    for dir in sub_dirs:\n",
        "      dir=str(dir)\n",
        "      file_path=os.path.join(base,dir)\n",
        "\n",
        "      file_names = glob(os.path.join(file_path,before_ext))\n",
        "\n",
        "      for name in file_names:\n",
        "        src=name\n",
        "        dst=src.replace(before,after)\n",
        "\n",
        "        os.rename(src, dst)\n",
        "\n",
        "  else:\n",
        "    file_names=glob(os.path.join(base,before_ext))\n",
        "\n",
        "    for name in file_names:\n",
        "      src=name\n",
        "      dst=src.replace(before,after)\n",
        "\n",
        "      os.rename(src, dst)\n"
      ],
      "execution_count": null,
      "outputs": []
    },
    {
      "cell_type": "code",
      "metadata": {
        "id": "y-QLvUW0tY6o"
      },
      "source": [
        "# 파일 이름 변경\n",
        "# target : str that you want to change, expected : post-change str\n",
        "\n",
        "\n",
        "import os\n",
        "\n",
        "# base=\"./textgrid\"\n",
        "def rename_file(base,target:str,expected:str,sub_dirs=None)\n",
        "\n",
        "  files=os.listdir(base)\n",
        "\n",
        "  for f in files:\n",
        "\n",
        "      before=os.path.join(base,f)\n",
        "      after=os.path.join(base,f).replace(target,after)\n",
        "      dst=os.rename(before,after)"
      ],
      "execution_count": null,
      "outputs": []
    }
  ]
}